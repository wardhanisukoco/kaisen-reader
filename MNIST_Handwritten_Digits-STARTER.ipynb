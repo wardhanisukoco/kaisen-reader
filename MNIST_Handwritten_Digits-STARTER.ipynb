{
  "cells": [
    {
      "cell_type": "markdown",
      "metadata": {
        "id": "47R1ldWl878I"
      },
      "source": [
        "# Introduction\n",
        "\n",
        "In this project, you will build a neural network of your own design to evaluate the MNIST dataset.\n",
        "\n",
        "Some of the benchmark results on MNIST include can be found [on Yann LeCun's page](http://yann.lecun.com/exdb/mnist/) and include:\n",
        "\n",
        "88% [Lecun et al., 1998](http://yann.lecun.com/exdb/publis/pdf/lecun-98.pdf)\n",
        "95.3% [Lecun et al., 1998](http://yann.lecun.com/exdb/publis/pdf/lecun-98.pdf)\n",
        "99.65% [Ciresan et al., 2011](http://people.idsia.ch/~juergen/ijcai2011.pdf)\n",
        "\n",
        "MNIST is a great dataset for sanity checking your models, since the accuracy levels achieved by large convolutional neural networks and small linear models are both quite high. This makes it important to be familiar with the data.\n",
        "\n",
        "## Installation"
      ]
    },
    {
      "cell_type": "code",
      "execution_count": 1,
      "metadata": {
        "id": "N_0qHVzX878L"
      },
      "outputs": [],
      "source": [
        "# Update the PATH to include the user installation directory.\n",
        "import os\n",
        "os.environ['PATH'] = f\"{os.environ['PATH']}:/root/.local/bin\"\n",
        "\n",
        "# Restart the Kernel before you move on to the next step."
      ]
    },
    {
      "cell_type": "markdown",
      "metadata": {
        "id": "o67wnWSZ878M"
      },
      "source": [
        "#### Important: Restart the Kernel before you move on to the next step."
      ]
    },
    {
      "cell_type": "code",
      "execution_count": 2,
      "metadata": {
        "id": "0WV_bih3878M",
        "outputId": "67f241cd-081c-4aa3-cec2-3af7c661bb70",
        "colab": {
          "base_uri": "https://localhost:8080/"
        }
      },
      "outputs": [
        {
          "output_type": "stream",
          "name": "stdout",
          "text": [
            "\u001b[31mERROR: Could not open requirements file: [Errno 2] No such file or directory: 'requirements.txt'\u001b[0m\u001b[31m\n",
            "\u001b[0m"
          ]
        }
      ],
      "source": [
        "# Install requirements\n",
        "!python -m pip install -r requirements.txt"
      ]
    },
    {
      "cell_type": "markdown",
      "metadata": {
        "id": "qq9P3-Fu878N"
      },
      "source": [
        "## Imports"
      ]
    },
    {
      "cell_type": "code",
      "execution_count": 3,
      "metadata": {
        "id": "8FKEa5Gl878N"
      },
      "outputs": [],
      "source": [
        "## This cell contains the essential imports you will need – DO NOT CHANGE THE CONTENTS! ##\n",
        "import torch\n",
        "import torch.nn as nn\n",
        "import torch.nn.functional as F\n",
        "import torch.optim as optim\n",
        "import torchvision\n",
        "import torchvision.transforms as transforms\n",
        "import matplotlib.pyplot as plt\n",
        "import numpy as np"
      ]
    },
    {
      "cell_type": "markdown",
      "metadata": {
        "id": "lVJgaFn4878N"
      },
      "source": [
        "## Load the Dataset\n",
        "\n",
        "Specify your transforms as a list if you intend to .\n",
        "The transforms module is already loaded as `transforms`.\n",
        "\n",
        "MNIST is fortunately included in the torchvision module.\n",
        "Then, you can create your dataset using the `MNIST` object from `torchvision.datasets` ([the documentation is available here](https://pytorch.org/vision/stable/datasets.html#mnist)).\n",
        "Make sure to specify `download=True`!\n",
        "\n",
        "Once your dataset is created, you'll also need to define a `DataLoader` from the `torch.utils.data` module for both the train and the test set."
      ]
    },
    {
      "cell_type": "code",
      "execution_count": 4,
      "metadata": {
        "colab": {
          "base_uri": "https://localhost:8080/"
        },
        "id": "RxpFAKSH878O",
        "outputId": "6c830c04-e9ac-4180-e715-acf442d4dca6"
      },
      "outputs": [
        {
          "output_type": "stream",
          "name": "stdout",
          "text": [
            "Downloading http://yann.lecun.com/exdb/mnist/train-images-idx3-ubyte.gz\n",
            "Downloading http://yann.lecun.com/exdb/mnist/train-images-idx3-ubyte.gz to data/MNIST/raw/train-images-idx3-ubyte.gz\n"
          ]
        },
        {
          "output_type": "stream",
          "name": "stderr",
          "text": [
            "100%|██████████| 9912422/9912422 [00:00<00:00, 143239063.87it/s]"
          ]
        },
        {
          "output_type": "stream",
          "name": "stdout",
          "text": [
            "Extracting data/MNIST/raw/train-images-idx3-ubyte.gz to data/MNIST/raw\n"
          ]
        },
        {
          "output_type": "stream",
          "name": "stderr",
          "text": [
            "\n"
          ]
        },
        {
          "output_type": "stream",
          "name": "stdout",
          "text": [
            "\n",
            "Downloading http://yann.lecun.com/exdb/mnist/train-labels-idx1-ubyte.gz\n",
            "Downloading http://yann.lecun.com/exdb/mnist/train-labels-idx1-ubyte.gz to data/MNIST/raw/train-labels-idx1-ubyte.gz\n"
          ]
        },
        {
          "output_type": "stream",
          "name": "stderr",
          "text": [
            "100%|██████████| 28881/28881 [00:00<00:00, 31644643.11it/s]\n"
          ]
        },
        {
          "output_type": "stream",
          "name": "stdout",
          "text": [
            "Extracting data/MNIST/raw/train-labels-idx1-ubyte.gz to data/MNIST/raw\n",
            "\n",
            "Downloading http://yann.lecun.com/exdb/mnist/t10k-images-idx3-ubyte.gz\n",
            "Downloading http://yann.lecun.com/exdb/mnist/t10k-images-idx3-ubyte.gz to data/MNIST/raw/t10k-images-idx3-ubyte.gz\n"
          ]
        },
        {
          "output_type": "stream",
          "name": "stderr",
          "text": [
            "100%|██████████| 1648877/1648877 [00:00<00:00, 59304824.35it/s]"
          ]
        },
        {
          "output_type": "stream",
          "name": "stdout",
          "text": [
            "Extracting data/MNIST/raw/t10k-images-idx3-ubyte.gz to data/MNIST/raw\n"
          ]
        },
        {
          "output_type": "stream",
          "name": "stderr",
          "text": [
            "\n"
          ]
        },
        {
          "output_type": "stream",
          "name": "stdout",
          "text": [
            "\n",
            "Downloading http://yann.lecun.com/exdb/mnist/t10k-labels-idx1-ubyte.gz\n",
            "Downloading http://yann.lecun.com/exdb/mnist/t10k-labels-idx1-ubyte.gz to data/MNIST/raw/t10k-labels-idx1-ubyte.gz\n"
          ]
        },
        {
          "output_type": "stream",
          "name": "stderr",
          "text": [
            "100%|██████████| 4542/4542 [00:00<00:00, 4729525.51it/s]\n"
          ]
        },
        {
          "output_type": "stream",
          "name": "stdout",
          "text": [
            "Extracting data/MNIST/raw/t10k-labels-idx1-ubyte.gz to data/MNIST/raw\n",
            "\n"
          ]
        }
      ],
      "source": [
        "from torch.utils.data import DataLoader\n",
        "from sklearn.model_selection import train_test_split\n",
        "from torch.utils.data.sampler import SubsetRandomSampler\n",
        "# Define transforms\n",
        "transform = transforms.Compose([\n",
        "    transforms.ToTensor()\n",
        "])\n",
        "\n",
        "# Create training set and define training dataloader\n",
        "train_set = torchvision.datasets.MNIST(root='data', train=True, download=True, transform=transform)\n",
        "train_loader = DataLoader(train_set, batch_size=64, shuffle=True)\n",
        "\n",
        "# Create test set and define test dataloader\n",
        "test_set = torchvision.datasets.MNIST(root='data', train=False, download=True, transform=transform)\n",
        "test_loader = DataLoader(test_set, batch_size=64, shuffle=False)\n",
        "\n",
        "\n",
        "# Define validation dataloader\n",
        "val_size = 0.2  # You can adjust the validation size as needed\n",
        "train_size = len(train_set)\n",
        "indices = list(range(train_size))\n",
        "val_indices = train_test_split(indices, test_size=val_size, random_state=42)\n",
        "val_sampler = SubsetRandomSampler(val_indices)\n",
        "\n",
        "val_loader = DataLoader(train_set, batch_size=64, shuffle=False)"
      ]
    },
    {
      "cell_type": "markdown",
      "metadata": {
        "id": "c8o_TI7g878O"
      },
      "source": [
        "## Justify your preprocessing\n",
        "\n",
        "In your own words, why did you choose the transforms you chose? If you didn't use any preprocessing steps, why not?"
      ]
    },
    {
      "cell_type": "markdown",
      "metadata": {
        "id": "-1OCj1yo878O"
      },
      "source": [
        "I chose not to use any preprocessing steps because my dataset was relatively small, clean, and well-organized. It didn't contain missing values or outliers, and the information I needed for my analysis was readily available in its raw form."
      ]
    },
    {
      "cell_type": "markdown",
      "metadata": {
        "id": "APWSqCTE878O"
      },
      "source": [
        "## Explore the Dataset\n",
        "Using matplotlib, numpy, and torch, explore the dimensions of your data.\n",
        "\n",
        "You can view images using the `show5` function defined below – it takes a data loader as an argument.\n",
        "Remember that normalized images will look really weird to you! You may want to try changing your transforms to view images.\n",
        "Typically using no transforms other than `toTensor()` works well for viewing – but not as well for training your network.\n",
        "If `show5` doesn't work, go back and check your code for creating your data loaders and your training/test sets."
      ]
    },
    {
      "cell_type": "code",
      "execution_count": 5,
      "metadata": {
        "id": "0cmSEsRw878P"
      },
      "outputs": [],
      "source": [
        "## This cell contains a function for showing 5 images from a dataloader – DO NOT CHANGE THE CONTENTS! ##\n",
        "def show5(img_loader):\n",
        "    dataiter = iter(img_loader)\n",
        "\n",
        "    batch = next(dataiter)\n",
        "    labels = batch[1][0:5]\n",
        "    images = batch[0][0:5]\n",
        "    for i in range(5):\n",
        "        print(int(labels[i].detach()))\n",
        "\n",
        "        image = images[i].numpy()\n",
        "        plt.imshow(image.T.squeeze().T)\n",
        "        plt.show()"
      ]
    },
    {
      "cell_type": "code",
      "execution_count": 6,
      "metadata": {
        "colab": {
          "base_uri": "https://localhost:8080/",
          "height": 1000
        },
        "id": "KJaHgo55878P",
        "outputId": "805b9613-1707-4e6f-c6e4-eeb5c3266e0b"
      },
      "outputs": [
        {
          "output_type": "stream",
          "name": "stdout",
          "text": [
            "Training data size: 60000\n",
            "Test data size: 10000\n",
            "Shape of training data: torch.Size([1, 28, 28])\n",
            "Shape of test data: torch.Size([1, 28, 28])\n",
            "7\n"
          ]
        },
        {
          "output_type": "display_data",
          "data": {
            "text/plain": [
              "<Figure size 640x480 with 1 Axes>"
            ],
            "image/png": "[encoded data removed]"
          },
          "metadata": {}
        },
        {
          "output_type": "stream",
          "name": "stdout",
          "text": [
            "7\n"
          ]
        },
        {
          "output_type": "display_data",
          "data": {
            "text/plain": [
              "<Figure size 640x480 with 1 Axes>"
            ],
            "image/png": "[encoded data removed]"
          },
          "metadata": {}
        },
        {
          "output_type": "stream",
          "name": "stdout",
          "text": [
            "5\n"
          ]
        },
        {
          "output_type": "display_data",
          "data": {
            "text/plain": [
              "<Figure size 640x480 with 1 Axes>"
            ],
            "image/png": "[encoded data removed]"
          },
          "metadata": {}
        },
        {
          "output_type": "stream",
          "name": "stdout",
          "text": [
            "3\n"
          ]
        },
        {
          "output_type": "display_data",
          "data": {
            "text/plain": [
              "<Figure size 640x480 with 1 Axes>"
            ],
            "image/png": "[encoded data removed]"
          },
          "metadata": {}
        },
        {
          "output_type": "stream",
          "name": "stdout",
          "text": [
            "9\n"
          ]
        },
        {
          "output_type": "display_data",
          "data": {
            "text/plain": [
              "<Figure size 640x480 with 1 Axes>"
            ],
            "image/png": "[encoded data removed]"
          },
          "metadata": {}
        }
      ],
      "source": [
        "# Explore data\n",
        "print(\"Training data size:\", len(train_set))\n",
        "print(\"Test data size:\", len(test_set))\n",
        "print(\"Shape of training data:\", train_set[0][0].shape)\n",
        "print(\"Shape of test data:\", test_set[0][0].shape)\n",
        "show5(train_loader)"
      ]
    },
    {
      "cell_type": "markdown",
      "metadata": {
        "id": "TpInRFIH878P"
      },
      "source": [
        "## Build your Neural Network\n",
        "Using the layers in `torch.nn` (which has been imported as `nn`) and the `torch.nn.functional` module (imported as `F`), construct a neural network based on the parameters of the dataset.\n",
        "Use any architecture you like.\n",
        "\n",
        "*Note*: If you did not flatten your tensors in your transforms or as part of your preprocessing and you are using only `Linear` layers, make sure to use the `Flatten` layer in your network!"
      ]
    },
    {
      "cell_type": "code",
      "execution_count": 7,
      "metadata": {
        "id": "PJe2LrYV878P"
      },
      "outputs": [],
      "source": [
        "class NeuralNetwork(nn.Module):\n",
        "    def __init__(self):\n",
        "        super(NeuralNetwork, self).__init__()\n",
        "        self.flatten = nn.Flatten()\n",
        "        self.fc1 = nn.Linear(784, 128)\n",
        "        self.fc2 = nn.Linear(128, 64)\n",
        "        self.fc3 = nn.Linear(64, 10)\n",
        "\n",
        "    def forward(self, x):\n",
        "        x = self.flatten(x)\n",
        "        x = F.relu(self.fc1(x))\n",
        "        x = F.relu(self.fc2(x))\n",
        "        x = self.fc3(x)\n",
        "        return x"
      ]
    },
    {
      "cell_type": "markdown",
      "metadata": {
        "id": "_uizOnV6878P"
      },
      "source": [
        "Specify a loss function and an optimizer, and instantiate the model.\n",
        "\n",
        "If you use a less common loss function, please note why you chose that loss function in a comment."
      ]
    },
    {
      "cell_type": "code",
      "execution_count": 9,
      "metadata": {
        "id": "JxZuYq0y878P"
      },
      "outputs": [],
      "source": [
        "model = NeuralNetwork()\n",
        "\n",
        "# Loss Function\n",
        "criterion = nn.CrossEntropyLoss()\n",
        "\n",
        "# Optimizer\n",
        "optimizer = optim.SGD(model.parameters(), lr=0.001, momentum=0.9)\n"
      ]
    },
    {
      "cell_type": "markdown",
      "metadata": {
        "id": "8LSJ-k-l878Q"
      },
      "source": [
        "## Running your Neural Network\n",
        "Use whatever method you like to train your neural network, and ensure you record the average loss at each epoch.\n",
        "Don't forget to use `torch.device()` and the `.to()` method for both your model and your data if you are using GPU!\n",
        "\n",
        "If you want to print your loss **during** each epoch, you can use the `enumerate` function and print the loss after a set number of batches. 250 batches works well for most people!"
      ]
    },
    {
      "cell_type": "code",
      "execution_count": 10,
      "metadata": {
        "colab": {
          "base_uri": "https://localhost:8080/"
        },
        "id": "R9zNSrWG878Q",
        "outputId": "a997425b-2fc1-4bc6-c8d1-80e4834561db"
      },
      "outputs": [
        {
          "output_type": "stream",
          "name": "stdout",
          "text": [
            "Epoch [1/20], Batch [250/938], Loss: 2.2649\n",
            "Epoch [1/20], Batch [500/938], Loss: 2.1117\n",
            "Epoch [1/20], Batch [750/938], Loss: 1.6420\n",
            "Epoch [2/20], Batch [250/938], Loss: 0.7195\n",
            "Epoch [2/20], Batch [500/938], Loss: 0.5592\n",
            "Epoch [2/20], Batch [750/938], Loss: 0.4870\n",
            "Epoch [3/20], Batch [250/938], Loss: 0.4233\n",
            "Epoch [3/20], Batch [500/938], Loss: 0.3973\n",
            "Epoch [3/20], Batch [750/938], Loss: 0.3881\n",
            "Epoch [4/20], Batch [250/938], Loss: 0.3643\n",
            "Epoch [4/20], Batch [500/938], Loss: 0.3473\n",
            "Epoch [4/20], Batch [750/938], Loss: 0.3455\n",
            "Epoch [5/20], Batch [250/938], Loss: 0.3357\n",
            "Epoch [5/20], Batch [500/938], Loss: 0.3202\n",
            "Epoch [5/20], Batch [750/938], Loss: 0.3289\n",
            "Epoch [6/20], Batch [250/938], Loss: 0.3069\n",
            "Epoch [6/20], Batch [500/938], Loss: 0.3024\n",
            "Epoch [6/20], Batch [750/938], Loss: 0.2891\n",
            "Epoch [7/20], Batch [250/938], Loss: 0.2796\n",
            "Epoch [7/20], Batch [500/938], Loss: 0.2874\n",
            "Epoch [7/20], Batch [750/938], Loss: 0.2774\n",
            "Epoch [8/20], Batch [250/938], Loss: 0.2632\n",
            "Epoch [8/20], Batch [500/938], Loss: 0.2627\n",
            "Epoch [8/20], Batch [750/938], Loss: 0.2659\n",
            "Epoch [9/20], Batch [250/938], Loss: 0.2521\n",
            "Epoch [9/20], Batch [500/938], Loss: 0.2510\n",
            "Epoch [9/20], Batch [750/938], Loss: 0.2452\n",
            "Epoch [10/20], Batch [250/938], Loss: 0.2397\n",
            "Epoch [10/20], Batch [500/938], Loss: 0.2303\n",
            "Epoch [10/20], Batch [750/938], Loss: 0.2303\n",
            "Epoch [11/20], Batch [250/938], Loss: 0.2268\n",
            "Epoch [11/20], Batch [500/938], Loss: 0.2291\n",
            "Epoch [11/20], Batch [750/938], Loss: 0.2142\n",
            "Epoch [12/20], Batch [250/938], Loss: 0.2123\n",
            "Epoch [12/20], Batch [500/938], Loss: 0.2056\n",
            "Epoch [12/20], Batch [750/938], Loss: 0.2074\n",
            "Epoch [13/20], Batch [250/938], Loss: 0.1955\n",
            "Epoch [13/20], Batch [500/938], Loss: 0.1985\n",
            "Epoch [13/20], Batch [750/938], Loss: 0.1938\n",
            "Epoch [14/20], Batch [250/938], Loss: 0.1804\n",
            "Epoch [14/20], Batch [500/938], Loss: 0.1968\n",
            "Epoch [14/20], Batch [750/938], Loss: 0.1815\n",
            "Epoch [15/20], Batch [250/938], Loss: 0.1865\n",
            "Epoch [15/20], Batch [500/938], Loss: 0.1802\n",
            "Epoch [15/20], Batch [750/938], Loss: 0.1722\n",
            "Epoch [16/20], Batch [250/938], Loss: 0.1705\n",
            "Epoch [16/20], Batch [500/938], Loss: 0.1684\n",
            "Epoch [16/20], Batch [750/938], Loss: 0.1659\n",
            "Epoch [17/20], Batch [250/938], Loss: 0.1553\n",
            "Epoch [17/20], Batch [500/938], Loss: 0.1574\n",
            "Epoch [17/20], Batch [750/938], Loss: 0.1637\n",
            "Epoch [18/20], Batch [250/938], Loss: 0.1467\n",
            "Epoch [18/20], Batch [500/938], Loss: 0.1557\n",
            "Epoch [18/20], Batch [750/938], Loss: 0.1534\n",
            "Epoch [19/20], Batch [250/938], Loss: 0.1564\n",
            "Epoch [19/20], Batch [500/938], Loss: 0.1404\n",
            "Epoch [19/20], Batch [750/938], Loss: 0.1422\n",
            "Epoch [20/20], Batch [250/938], Loss: 0.1425\n",
            "Epoch [20/20], Batch [500/938], Loss: 0.1403\n",
            "Epoch [20/20], Batch [750/938], Loss: 0.1383\n"
          ]
        }
      ],
      "source": [
        "device = torch.device(\"cuda\" if torch.cuda.is_available() else \"cpu\")\n",
        "model.to(device)\n",
        "\n",
        "# Set the model to training mode\n",
        "model.train()\n",
        "\n",
        "# Define the number of batches to print the loss\n",
        "print_loss_every = 250\n",
        "\n",
        "# Lists to store the loss values\n",
        "train_loss_values = []\n",
        "\n",
        "\n",
        "num_epochs = 20  # Define the number of epochs\n",
        "\n",
        "# Training loop\n",
        "for epoch in range(num_epochs):\n",
        "    running_loss = 0.0\n",
        "\n",
        "    for batch_idx, (images, labels) in enumerate(train_loader):\n",
        "        # Move the data to the appropriate device\n",
        "        images = images.to(device)\n",
        "        labels = labels.to(device)\n",
        "\n",
        "        # Zero the gradients\n",
        "        optimizer.zero_grad()\n",
        "\n",
        "        # Forward pass\n",
        "        outputs = model(images)\n",
        "        loss = criterion(outputs, labels)\n",
        "\n",
        "        # Backward pass and optimization\n",
        "        loss.backward()\n",
        "        optimizer.step()\n",
        "\n",
        "        # Record the loss\n",
        "        running_loss += loss.item()\n",
        "\n",
        "        # Print the loss every few batches\n",
        "        if (batch_idx + 1) % print_loss_every == 0:\n",
        "            avg_loss = running_loss / print_loss_every\n",
        "            print(f\"Epoch [{epoch+1}/{num_epochs}], Batch [{batch_idx+1}/{len(train_loader)}], Loss: {avg_loss:.4f}\")\n",
        "            train_loss_values.append(avg_loss)\n",
        "            running_loss = 0.0"
      ]
    },
    {
      "cell_type": "markdown",
      "metadata": {
        "id": "n06lze6z878Q"
      },
      "source": [
        "Plot the training loss (and validation loss/accuracy, if recorded)."
      ]
    },
    {
      "cell_type": "code",
      "execution_count": null,
      "metadata": {
        "colab": {
          "base_uri": "https://localhost:8080/",
          "height": 472
        },
        "id": "i9nLGOxZ878Q",
        "outputId": "ce56e7cc-d2f3-453d-af24-14ac30d0c67c"
      },
      "outputs": [
        {
          "data": {
            "image/png": "[encoded data removed]",
            "text/plain": [
              "<Figure size 640x480 with 1 Axes>"
            ]
          },
          "metadata": {},
          "output_type": "display_data"
        }
      ],
      "source": [
        "plt.plot(train_loss_values)\n",
        "plt.xlabel(\"Epoch\")\n",
        "plt.ylabel(\"Training Loss\")\n",
        "plt.title(\"Training Loss\")\n",
        "plt.show()"
      ]
    },
    {
      "cell_type": "markdown",
      "metadata": {
        "id": "cHhO5jj9878Q"
      },
      "source": [
        "## Testing your model\n",
        "Using the previously created `DataLoader` for the test set, compute the percentage of correct predictions using the highest probability prediction.\n",
        "\n",
        "If your accuracy is over 90%, great work, but see if you can push a bit further!\n",
        "If your accuracy is under 90%, you'll need to make improvements.\n",
        "Go back and check your model architecture, loss function, and optimizer to make sure they're appropriate for an image classification task."
      ]
    },
    {
      "cell_type": "code",
      "execution_count": 11,
      "metadata": {
        "colab": {
          "base_uri": "https://localhost:8080/"
        },
        "id": "3VI7B1cQ878R",
        "outputId": "cde4a442-4ac0-4274-b93c-35e84b0c2719"
      },
      "outputs": [
        {
          "output_type": "stream",
          "name": "stdout",
          "text": [
            "Accuracy: 95.81%\n"
          ]
        }
      ],
      "source": [
        "correct_predictions = 0\n",
        "total_predictions = 0\n",
        "\n",
        "# Set the model to evaluation mode\n",
        "model.eval()\n",
        "\n",
        "# Iterate over the test set\n",
        "for images, labels in test_loader:\n",
        "    # Move the data to the appropriate device\n",
        "    images = images.to(device)\n",
        "    labels = labels.to(device)\n",
        "\n",
        "    # Forward pass\n",
        "    outputs = model(images)\n",
        "\n",
        "    # Get the predicted class labels\n",
        "    _, predicted = torch.max(outputs.data, 1)\n",
        "\n",
        "    # Update the count of correct predictions\n",
        "    correct_predictions += (predicted == labels).sum().item()\n",
        "\n",
        "    # Update the total number of predictions\n",
        "    total_predictions += labels.size(0)\n",
        "\n",
        "# Calculate the percentage of correct predictions\n",
        "accuracy = (correct_predictions / total_predictions) * 100\n",
        "\n",
        "print(f\"Accuracy: {accuracy:.2f}%\")"
      ]
    },
    {
      "cell_type": "markdown",
      "metadata": {
        "id": "uhyEKTxi878R"
      },
      "source": [
        "## Improving your model\n",
        "\n",
        "Once your model is done training, try tweaking your hyperparameters and training again below to improve your accuracy on the test set!"
      ]
    },
    {
      "cell_type": "code",
      "execution_count": 13,
      "metadata": {
        "colab": {
          "base_uri": "https://localhost:8080/"
        },
        "id": "2xEb9xSZ878R",
        "outputId": "c3c145a7-1ac5-47d1-eafc-4b7486574638"
      },
      "outputs": [
        {
          "output_type": "stream",
          "name": "stderr",
          "text": [
            "/usr/local/lib/python3.10/dist-packages/torch/utils/data/dataloader.py:557: UserWarning: This DataLoader will create 6 worker processes in total. Our suggested max number of worker in current system is 2, which is smaller than what this DataLoader is going to create. Please be aware that excessive worker creation might get DataLoader running slow or even freeze, lower the worker number to avoid potential slowness/freeze if necessary.\n",
            "  warnings.warn(_create_warning_msg(\n"
          ]
        },
        {
          "output_type": "stream",
          "name": "stdout",
          "text": [
            "Epoch [1/8], Batch [250/938], Loss: 0.5220\n",
            "Epoch [1/8], Batch [500/938], Loss: 0.2291\n",
            "Epoch [1/8], Batch [750/938], Loss: 0.1938\n",
            "Epoch [1/8], Validation Accuracy: 95.50%\n",
            "Epoch [2/8], Batch [250/938], Loss: 0.1151\n",
            "Epoch [2/8], Batch [500/938], Loss: 0.1221\n",
            "Epoch [2/8], Batch [750/938], Loss: 0.1085\n",
            "Epoch [2/8], Validation Accuracy: 97.55%\n",
            "Epoch [3/8], Batch [250/938], Loss: 0.0766\n",
            "Epoch [3/8], Batch [500/938], Loss: 0.0746\n",
            "Epoch [3/8], Batch [750/938], Loss: 0.0771\n",
            "Epoch [3/8], Validation Accuracy: 98.47%\n",
            "Epoch [4/8], Batch [250/938], Loss: 0.0562\n",
            "Epoch [4/8], Batch [500/938], Loss: 0.0652\n",
            "Epoch [4/8], Batch [750/938], Loss: 0.0598\n",
            "Epoch [4/8], Validation Accuracy: 98.67%\n",
            "Epoch [5/8], Batch [250/938], Loss: 0.0433\n",
            "Epoch [5/8], Batch [500/938], Loss: 0.0465\n",
            "Epoch [5/8], Batch [750/938], Loss: 0.0522\n",
            "Epoch [5/8], Validation Accuracy: 99.09%\n",
            "Epoch [6/8], Batch [250/938], Loss: 0.0360\n",
            "Epoch [6/8], Batch [500/938], Loss: 0.0385\n",
            "Epoch [6/8], Batch [750/938], Loss: 0.0375\n",
            "Epoch [6/8], Validation Accuracy: 98.75%\n",
            "Epoch [7/8], Batch [250/938], Loss: 0.0324\n",
            "Epoch [7/8], Batch [500/938], Loss: 0.0333\n",
            "Epoch [7/8], Batch [750/938], Loss: 0.0353\n",
            "Epoch [7/8], Validation Accuracy: 99.15%\n",
            "Epoch [8/8], Batch [250/938], Loss: 0.0268\n",
            "Epoch [8/8], Batch [500/938], Loss: 0.0317\n",
            "Epoch [8/8], Batch [750/938], Loss: 0.0313\n",
            "Epoch [8/8], Validation Accuracy: 99.04%\n",
            "Final Testing Accuracy: 97.36%\n"
          ]
        }
      ],
      "source": [
        "learning_rate = 0.002  # Adjust the learning rate\n",
        "num_epochs = 8  # Increase or decrease the number of epochs\n",
        "batch_size = 64  # Adjust the batch size\n",
        "num_workers = 6  # Set the number of data loading subprocesses\n",
        "\n",
        "# Define your model architecture\n",
        "model = NeuralNetwork()\n",
        "# Move the model to the appropriate device\n",
        "model.to(device)\n",
        "\n",
        "# Define your loss function\n",
        "criterion = nn.CrossEntropyLoss()  # Try different loss functions\n",
        "\n",
        "# Define your optimizer\n",
        "optimizer = torch.optim.Adam(model.parameters(), lr=learning_rate)  # Adjust the optimizer and learning rate\n",
        "\n",
        "# Create the data loaders\n",
        "train_loader = DataLoader(train_set, batch_size=batch_size, shuffle=True, num_workers=num_workers, pin_memory=True)\n",
        "test_loader = DataLoader(test_set, batch_size=batch_size, shuffle=False, num_workers=num_workers, pin_memory=True)\n",
        "\n",
        "# Training loop\n",
        "for epoch in range(num_epochs):\n",
        "    running_loss = 0.0\n",
        "\n",
        "    for batch_idx, (images, labels) in enumerate(train_loader):\n",
        "        # Move the data to the appropriate device\n",
        "        images = images.to(device)\n",
        "        labels = labels.to(device)\n",
        "\n",
        "        # Zero the gradients\n",
        "        optimizer.zero_grad()\n",
        "\n",
        "        # Forward pass\n",
        "        outputs = model(images)\n",
        "        loss = criterion(outputs, labels)\n",
        "\n",
        "        # Backward pass and optimization\n",
        "        loss.backward()\n",
        "        optimizer.step()\n",
        "\n",
        "        # Record the loss\n",
        "        running_loss += loss.item()\n",
        "\n",
        "        # Print the loss every few batches\n",
        "        if (batch_idx + 1) % print_loss_every == 0:\n",
        "            avg_loss = running_loss / print_loss_every\n",
        "            print(f\"Epoch [{epoch+1}/{num_epochs}], Batch [{batch_idx+1}/{len(train_loader)}], Loss: {avg_loss:.4f}\")\n",
        "            train_loss_values.append(avg_loss)\n",
        "            running_loss = 0.0\n",
        "\n",
        "    # Evaluate the model on the validation set\n",
        "    model.eval()\n",
        "    with torch.no_grad():\n",
        "        correct_predictions = 0\n",
        "        total_predictions = 0\n",
        "        for images, labels in val_loader:\n",
        "            images = images.to(device)\n",
        "            labels = labels.to(device)\n",
        "\n",
        "            outputs = model(images)\n",
        "            _, predicted = torch.max(outputs.data, 1)\n",
        "\n",
        "            correct_predictions += (predicted == labels).sum().item()\n",
        "            total_predictions += labels.size(0)\n",
        "\n",
        "        accuracy = (correct_predictions / total_predictions) * 100\n",
        "        print(f\"Epoch [{epoch+1}/{num_epochs}], Validation Accuracy: {accuracy:.2f}%\")\n",
        "    model.train()\n",
        "\n",
        "# Calculate the final accuracy on the test set\n",
        "model.eval()\n",
        "with torch.no_grad():\n",
        "    correct_predictions = 0\n",
        "    total_predictions = 0\n",
        "    for images, labels in test_loader:\n",
        "        images = images.to(device)\n",
        "        labels = labels.to(device)\n",
        "\n",
        "        outputs = model(images)\n",
        "        _, predicted = torch.max(outputs.data, 1)\n",
        "\n",
        "        correct_predictions += (predicted == labels).sum().item()\n",
        "        total_predictions += labels.size(0)\n",
        "\n",
        "    accuracy = (correct_predictions / total_predictions) * 100\n",
        "    print(f\"Final Testing Accuracy: {accuracy:.2f}%\")"
      ]
    },
    {
      "cell_type": "markdown",
      "metadata": {
        "id": "Xzqeo5HZ878R"
      },
      "source": [
        "## Saving your model\n",
        "Using `torch.save`, save your model for future loading."
      ]
    },
    {
      "cell_type": "code",
      "execution_count": 14,
      "metadata": {
        "id": "L7L1SyJW878R"
      },
      "outputs": [],
      "source": [
        "import os\n",
        "\n",
        "# Get the path of your code file\n",
        "code_file_path = os.path.abspath(\"MNIST_Handwritten_Digits-STARTER.ipynb\")\n",
        "\n",
        "# Get the directory path of your code file\n",
        "code_directory = os.path.dirname(code_file_path)\n",
        "\n",
        "# Define the file path for saving the model\n",
        "model_path = os.path.join(code_directory, 'exported-model.pth')\n",
        "\n",
        "# Save the model\n",
        "torch.save(model.state_dict(), model_path)"
      ]
    }
  ],
  "metadata": {
    "colab": {
      "provenance": []
    },
    "kernelspec": {
      "display_name": "Python 3",
      "language": "python",
      "name": "python3"
    },
    "language_info": {
      "codemirror_mode": {
        "name": "ipython",
        "version": 3
      },
      "file_extension": ".py",
      "mimetype": "text/x-python",
      "name": "python",
      "nbconvert_exporter": "python",
      "pygments_lexer": "ipython3",
      "version": "3.8.10"
    }
  },
  "nbformat": 4,
  "nbformat_minor": 0
}